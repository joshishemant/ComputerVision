{
 "cells": [
  {
   "cell_type": "code",
   "execution_count": 1,
   "metadata": {
    "collapsed": true
   },
   "outputs": [],
   "source": [
    "# Hemant Joshi\n",
    "#1. Compiling a Feature Vector by Using Oriented Fast and RotatedBrief.\n",
    "#2. Reduce the Dimensions of the Compiled Feature Vector by Using K-Means Clustering\n",
    "#3. Use K-Nearest Neighbor for Classification of Desired Object "
   ]
  },
  {
   "cell_type": "code",
   "execution_count": 2,
   "metadata": {
    "collapsed": true
   },
   "outputs": [],
   "source": [
    "import numpy as np\n",
    "import cv2\n",
    "import matplotlib.pyplot as plt\n",
    "import os\n",
    "import pandas as pd\n",
    "from sklearn.cluster import KMeans"
   ]
  },
  {
   "cell_type": "code",
   "execution_count": 3,
   "metadata": {
    "collapsed": false
   },
   "outputs": [
    {
     "name": "stdout",
     "output_type": "stream",
     "text": [
      "Extraction of Cement Road images Done!\n",
      "Extraction of Kaccha Road images Done!\n",
      "Extraction of Paver Road images Done!\n",
      "Extraction of Tarcoal Road images Done!\n"
     ]
    }
   ],
   "source": [
    "main_folder=r\"D:\\TYETA\\CV\\Data_Set\"\n",
    "\n",
    "for folder in os.listdir(main_folder):\n",
    "    path=os.path.join(main_folder,folder)\n",
    "    for filename in os.listdir(path):\n",
    "        p=os.path.join(path,filename)\n",
    "        a=cv2.imread(p)\n",
    "        resize=(512,512)\n",
    "        img=cv2.resize(a,resize)#resize image\n",
    "        gray = cv2.cvtColor(img, cv2.COLOR_BGR2GRAY)\n",
    "        orb = cv2.ORB_create(150)#initialise  detector\n",
    "        keypoints, descriptors = orb.detectAndCompute(gray, None)\n",
    "        out=pd.DataFrame(descriptors)\n",
    "        csv_data=out.to_csv(str(folder)+'exp15.csv', mode='a', header=False)\n",
    "    print('Extraction of ' + str(folder) +' images Done!')  "
   ]
  },
  {
   "cell_type": "code",
   "execution_count": 4,
   "metadata": {
    "collapsed": true
   },
   "outputs": [],
   "source": [
    "from csv import writer\n",
    "from csv import reader\n",
    "\n",
    "main_folder=r\"D:\\TYETA\\CV\\Data_Set\"\n",
    "for folder in os.listdir(main_folder):\n",
    "    with open(str(folder)+'exp15.csv', 'r') as read_obj, \\\n",
    "        open('wokmeans_exp15.csv', 'a+', newline='') as write_obj:\n",
    "        csv_reader = reader(read_obj)     # Create a csv.reader object from the input file object\n",
    "        csv_writer = writer(write_obj)    # Create a csv.writer object from the output file object\n",
    "        for row in csv_reader:\n",
    "                csv_writer.writerow(row)      # Add the updated row / list to the output file"
   ]
  },
  {
   "cell_type": "code",
   "execution_count": 5,
   "metadata": {
    "collapsed": true
   },
   "outputs": [],
   "source": [
    "#KMeans- Dimension Reduction"
   ]
  },
  {
   "cell_type": "code",
   "execution_count": 6,
   "metadata": {
    "collapsed": false
   },
   "outputs": [
    {
     "name": "stdout",
     "output_type": "stream",
     "text": [
      "KMeans(algorithm='auto', copy_x=True, init='k-means++', max_iter=300,\n",
      "    n_clusters=5, n_init=10, n_jobs=1, precompute_distances='auto',\n",
      "    random_state=None, tol=0.0001, verbose=0)\n"
     ]
    }
   ],
   "source": [
    "import pickle\n",
    "road_df=pd.read_csv('wokmeans_exp15.csv').iloc[:, 1:]\n",
    "kmeans = KMeans(n_clusters=5)\n",
    "model=kmeans.fit(road_df)\n",
    "print(model)\n",
    "pickle.dump(model, open('kmeansmodel_exp15.pkl', 'wb')) "
   ]
  },
  {
   "cell_type": "code",
   "execution_count": 7,
   "metadata": {
    "collapsed": false
   },
   "outputs": [
    {
     "name": "stdout",
     "output_type": "stream",
     "text": [
      "KMeans of Cement Road images Done!\n",
      "KMeans of Kaccha Road images Done!\n",
      "KMeans of Paver Road images Done!\n",
      "KMeans of Tarcoal Road images Done!\n"
     ]
    }
   ],
   "source": [
    "for folder in os.listdir(main_folder):\n",
    "    model = pickle.load(open('kmeansmodel_exp15.pkl', \"rb\"))\n",
    "    path=os.path.join(main_folder,folder)\n",
    "    for filename in os.listdir(path):\n",
    "        p=os.path.join(path,filename)\n",
    "        a=cv2.imread(p)\n",
    "        resize=(300,300)\n",
    "        img=cv2.resize(a,resize)#resize image\n",
    "        gray = cv2.cvtColor(img, cv2.COLOR_BGR2GRAY)\n",
    "        orb = cv2.ORB_create(150)#initialise  detector\n",
    "        keypoints, descriptors = orb.detectAndCompute(gray, None)\n",
    "        out=pd.DataFrame(descriptors)\n",
    "        \n",
    "        output=pd.DataFrame(model.predict(out))\n",
    "        hist=np.histogram(output.values,bins=[0,1,2,3,4,5])\n",
    "        histout=pd.DataFrame(hist[0])\n",
    "        \n",
    "        csv_data=histout.transpose().to_csv(str(folder)+'_kmeans_exp15.csv', mode='a', header=False)\n",
    "        \n",
    "    print('KMeans of ' + str(folder) +' images Done!')\n"
   ]
  },
  {
   "cell_type": "code",
   "execution_count": 8,
   "metadata": {
    "collapsed": true
   },
   "outputs": [],
   "source": [
    "from csv import writer\n",
    "from csv import reader\n",
    "\n",
    "main_folder=r\"D:\\TYETA\\CV\\Data_Set\"\n",
    "i=1\n",
    "for folder in os.listdir(main_folder):\n",
    "    with open(str(folder)+'_kmeans_exp15.csv', 'r') as read_obj, \\\n",
    "        open('FinalORB_exp15.csv', 'a+', newline='') as write_obj:\n",
    "        csv_reader = reader(read_obj)     # Create a csv.reader object from the input file object\n",
    "        csv_writer = writer(write_obj)    # Create a csv.writer object from the output file object\n",
    "        # Read each row of the input csv file as list\n",
    "        for row in csv_reader:\n",
    "            row.append(i)            # Append the class in the row / list\n",
    "            csv_writer.writerow(row)      # Add the updated row / list to the output file\n",
    "    i+=1"
   ]
  },
  {
   "cell_type": "code",
   "execution_count": 9,
   "metadata": {
    "collapsed": true
   },
   "outputs": [],
   "source": [
    "dataset = pd.read_csv('FinalORB_exp15.csv')\n",
    "X = dataset.iloc[:, 1:6].values\n",
    "y = dataset.iloc[:, 6].values"
   ]
  },
  {
   "cell_type": "code",
   "execution_count": 10,
   "metadata": {
    "collapsed": true
   },
   "outputs": [],
   "source": [
    "from sklearn.model_selection import train_test_split\n",
    "\n",
    "X_train, X_test, y_train, y_test = train_test_split(X, y, test_size=0.3, random_state = 0)"
   ]
  },
  {
   "cell_type": "code",
   "execution_count": 23,
   "metadata": {
    "collapsed": false
   },
   "outputs": [
    {
     "name": "stdout",
     "output_type": "stream",
     "text": [
      "[3 4 4 2 1 3 2 3 2 3 2 3 2 3 2 1 1 2 2 2 2 1 4 1 4 1 2 4 3 4 2 4 3 2 4 4 1\n",
      " 3 2 2 2 3 1 4 2 2 2 2 2 1 3 2 2 2 1 4 1 2 3 2 2 1 1 4 1 2 1 3 2 3 1 2 1 3\n",
      " 2 3 1 4 1 3 1 4 1 2 3 2 2 3 4 4 3 3 3 4 1 2 3 4 3 1 3 1 2 2 3 4 1 4 2 3 1\n",
      " 4 1 3 2 2 2 4 2 3]\n"
     ]
    }
   ],
   "source": [
    "from sklearn.neighbors import KNeighborsClassifier\n",
    "\n",
    "knn = KNeighborsClassifier(n_neighbors=7)\n",
    "\n",
    "knn.fit(X_train, y_train)\n",
    "\n",
    "y_pred = knn.predict(X_test)\n",
    "print(y_pred)"
   ]
  },
  {
   "cell_type": "code",
   "execution_count": 24,
   "metadata": {
    "collapsed": false
   },
   "outputs": [
    {
     "name": "stdout",
     "output_type": "stream",
     "text": [
      "Accuracy: 0.4166666666666667\n"
     ]
    }
   ],
   "source": [
    "from sklearn import metrics\n",
    "print(\"Accuracy:\",metrics.accuracy_score(y_test, y_pred))"
   ]
  },
  {
   "cell_type": "code",
   "execution_count": null,
   "metadata": {
    "collapsed": false
   },
   "outputs": [],
   "source": []
  },
  {
   "cell_type": "code",
   "execution_count": null,
   "metadata": {
    "collapsed": true
   },
   "outputs": [],
   "source": []
  }
 ],
 "metadata": {
  "kernelspec": {
   "display_name": "Python 3",
   "language": "python",
   "name": "python3"
  },
  "language_info": {
   "codemirror_mode": {
    "name": "ipython",
    "version": 3
   },
   "file_extension": ".py",
   "mimetype": "text/x-python",
   "name": "python",
   "nbconvert_exporter": "python",
   "pygments_lexer": "ipython3",
   "version": "3.6.0"
  }
 },
 "nbformat": 4,
 "nbformat_minor": 2
}
