{
 "cells": [
  {
   "cell_type": "code",
   "execution_count": 10,
   "metadata": {
    "collapsed": true
   },
   "outputs": [],
   "source": [
    "import numpy as np\n",
    "import cv2\n",
    "import matplotlib.pyplot as plt\n",
    "import os\n",
    "import pandas as pd\n",
    "from sklearn.decomposition import PCA\n",
    "from sklearn.preprocessing import StandardScaler"
   ]
  },
  {
   "cell_type": "code",
   "execution_count": 12,
   "metadata": {
    "collapsed": false,
    "scrolled": false
   },
   "outputs": [
    {
     "name": "stdout",
     "output_type": "stream",
     "text": [
      "[0.11019543 0.10123451 0.07515242 0.07203776]\n"
     ]
    }
   ],
   "source": [
    "import pickle\n",
    "\n",
    "road_df=pd.read_csv('wokmeans_exp15.csv').iloc[:, 1:]\n",
    "road_df=StandardScaler().fit_transform(road_df)\n",
    "pca = PCA(n_components=4)\n",
    "model=pca.fit(road_df)\n",
    "    \n",
    "print(model.explained_variance_ratio_)\n",
    "#print(model.components_)\n",
    "#road_Df = pd.DataFrame(data = model)\n",
    "#print(road_Df)\n",
    "pickle.dump(model, open('pca_model.pkl', 'wb')) "
   ]
  },
  {
   "cell_type": "code",
   "execution_count": 16,
   "metadata": {
    "collapsed": false
   },
   "outputs": [
    {
     "name": "stdout",
     "output_type": "stream",
     "text": [
      "PCA_prediction of Cement Road images Done!\n",
      "PCA_prediction of Kaccha Road images Done!\n",
      "PCA_prediction of Paver Road images Done!\n",
      "PCA_prediction of Tarcoal Road images Done!\n"
     ]
    }
   ],
   "source": [
    "main_folder=r\"D:\\TYETA\\CV\\Data_Set\"\n",
    "\n",
    "for folder in os.listdir(main_folder):\n",
    "    model = pickle.load(open('pca_model.pkl', \"rb\"))\n",
    "    path=os.path.join(main_folder,folder)\n",
    "    for filename in os.listdir(path):\n",
    "        p=os.path.join(path,filename)\n",
    "        a=cv2.imread(p)\n",
    "        resize=(300,300)\n",
    "        img=cv2.resize(a,resize)#resize image\n",
    "        gray = cv2.cvtColor(img, cv2.COLOR_BGR2GRAY)\n",
    "        orb = cv2.ORB_create(150)#initialise  detector\n",
    "        keypoints, descriptors = orb.detectAndCompute(gray, None)\n",
    "        out=pd.DataFrame(descriptors)\n",
    "        \n",
    "        output=pd.DataFrame(model.fit_transform(out))\n",
    "        hist=np.histogram(output.values,bins=[0,1,2,3,4,5])\n",
    "        histout=pd.DataFrame(hist[0])\n",
    "        \n",
    "    csv_data=histout.transpose().to_csv(str(folder)+'_pca.csv', mode='a', header=False)\n",
    "        \n",
    "    print('PCA_prediction of ' + str(folder) +' images Done!')\n"
   ]
  },
  {
   "cell_type": "code",
   "execution_count": 17,
   "metadata": {
    "collapsed": true
   },
   "outputs": [],
   "source": [
    "from csv import writer\n",
    "from csv import reader\n",
    "\n",
    "main_folder=r\"D:\\TYETA\\CV\\Data_Set\"\n",
    "i=1\n",
    "for folder in os.listdir(main_folder):\n",
    "    with open(str(folder)+'_pca.csv', 'r') as read_obj, \\\n",
    "        open('FinalORB_pca.csv', 'a+', newline='') as write_obj:\n",
    "        csv_reader = reader(read_obj)     # Create a csv.reader object from the input file object\n",
    "        csv_writer = writer(write_obj)    # Create a csv.writer object from the output file object\n",
    "        # Read each row of the input csv file as list\n",
    "        for row in csv_reader:\n",
    "            row.append(i)            # Append the class in the row / list\n",
    "            csv_writer.writerow(row)      # Add the updated row / list to the output file\n",
    "    i+=1"
   ]
  },
  {
   "cell_type": "code",
   "execution_count": 19,
   "metadata": {
    "collapsed": false
   },
   "outputs": [],
   "source": [
    "dataset = pd.read_csv('FinalORB_pca.csv')\n",
    "X = dataset.iloc[:, 1:6].values\n",
    "y = dataset.iloc[:, 6].values"
   ]
  },
  {
   "cell_type": "code",
   "execution_count": 20,
   "metadata": {
    "collapsed": true
   },
   "outputs": [],
   "source": [
    "from sklearn.model_selection import train_test_split\n",
    "\n",
    "X_train, X_test, y_train, y_test = train_test_split(X, y, test_size=0.3, random_state = 0)"
   ]
  },
  {
   "cell_type": "code",
   "execution_count": 21,
   "metadata": {
    "collapsed": false
   },
   "outputs": [
    {
     "name": "stderr",
     "output_type": "stream",
     "text": [
      "C:\\Users\\HP\\Anaconda3\\lib\\site-packages\\sklearn\\utils\\validation.py:429: DataConversionWarning: Data with input dtype int64 was converted to float64 by StandardScaler.\n",
      "  warnings.warn(msg, _DataConversionWarning)\n"
     ]
    }
   ],
   "source": [
    "from sklearn.preprocessing import StandardScaler\n",
    "\n",
    "sc = StandardScaler()\n",
    "X_train = sc.fit_transform(X_train)\n",
    "X_test = sc.transform(X_test)"
   ]
  },
  {
   "cell_type": "code",
   "execution_count": 34,
   "metadata": {
    "collapsed": false
   },
   "outputs": [],
   "source": [
    "from sklearn import svm\n",
    "clf = svm.SVC(kernel='poly') # Linear Kernel\n",
    "\n",
    "clf.fit(X_train, y_train)\n",
    "\n",
    "#Predict the response for test dataset\n",
    "y_pred = clf.predict(X_test)"
   ]
  },
  {
   "cell_type": "code",
   "execution_count": 35,
   "metadata": {
    "collapsed": false
   },
   "outputs": [
    {
     "name": "stdout",
     "output_type": "stream",
     "text": [
      "Accuracy: 0.2975206611570248\n"
     ]
    }
   ],
   "source": [
    "from sklearn import metrics\n",
    "print(\"Accuracy:\",metrics.accuracy_score(y_test, y_pred))"
   ]
  },
  {
   "cell_type": "code",
   "execution_count": null,
   "metadata": {
    "collapsed": true
   },
   "outputs": [],
   "source": []
  }
 ],
 "metadata": {
  "kernelspec": {
   "display_name": "Python 3",
   "language": "python",
   "name": "python3"
  },
  "language_info": {
   "codemirror_mode": {
    "name": "ipython",
    "version": 3
   },
   "file_extension": ".py",
   "mimetype": "text/x-python",
   "name": "python",
   "nbconvert_exporter": "python",
   "pygments_lexer": "ipython3",
   "version": "3.6.0"
  }
 },
 "nbformat": 4,
 "nbformat_minor": 2
}
